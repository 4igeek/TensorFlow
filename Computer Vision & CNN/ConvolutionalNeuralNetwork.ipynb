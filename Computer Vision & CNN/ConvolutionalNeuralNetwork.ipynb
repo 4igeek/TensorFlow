{
 "cells": [
  {
   "cell_type": "markdown",
   "metadata": {},
   "source": [
    "# Convolutional Neural Network\n",
    "\n",
    "Computer vision is a machine learning technique used to solve problems (find patterns) that involve images and one of these techniques is called CNN. Not all problems are the same and just like in the <a href=\"https://github.com/4igeek/TensorFlow/tree/main/Classification\">classification section</a> of this project we saw two kinds of problems:\n",
    "\n",
    "1) Binary class problems\n",
    "2) Multi-class problems\n",
    "\n",
    "## Typical architecture for a CNN\n",
    "\n",
    "<table style=\"width:100%\">\n",
    "    <thead>\n",
    "        <tr>\n",
    "            <th style=\"width:15%\">Layer type</th>\n",
    "            <th style=\"width:35%\">What it does</th>\n",
    "            <th style=\"width:50%\">Default values</th>\n",
    "        </tr>\n",
    "    </thead>\n",
    "    <tbody>\n",
    "        <tr>\n",
    "            <td>Input layer</td>\n",
    "            <td>Processes input images (in the form of tensors)</td>\n",
    "            <td>Input shape = (batch_size, image_height, image_width, color_channels)</td>\n",
    "        </tr>\n",
    "        <tr>\n",
    "            <td>Convolution layer</td>\n",
    "            <td>Extracts the key features from images</td>\n",
    "            <td><span style=\"font-family: Consolas;\">tf.keras.layers.convXD</span>- where X can be any number i.e. 1 for text or 2 for img.</td>\n",
    "        </tr>\n",
    "        <tr>\n",
    "            <td>Hidden activation</td>\n",
    "            <td>Adds non-linearity to the extracted features</td>\n",
    "            <td>Usually reLU <span style=\"font-family: Consolas;\">tf.keras.activations.relu</span></td>\n",
    "        </tr>\n",
    "        <tr>\n",
    "            <td>Pooling layer</td>\n",
    "            <td>Reduces dimensionality of the extracted features</td>\n",
    "            <td>\n",
    "            Avg: <span style=\"font-family: Consolas;\">tf.keras.layers.AvgPool2D</span> or \n",
    "            Max: <span style=\"font-family: Consolas;\">tf.keras.layers.MaxPool2D</span>\n",
    "            </td>\n",
    "        </tr>\n",
    "        <tr>\n",
    "            <td>Fully connected layer</td>\n",
    "            <td>Refines features passed by convolution layers   </td>\n",
    "            <td><span style=\"font-family: Consolas;\">tf.keras.layers.Dense</span></td>\n",
    "        </tr>\n",
    "        <tr>\n",
    "            <td>Output layer</td>\n",
    "            <td>Takes learned features and outputs labels</td>\n",
    "            <td>Output shape = [number_of_classes]</td>\n",
    "        </tr>\n",
    "        <tr>\n",
    "            <td>Output activation</td>\n",
    "            <td>Adds non-linearity to output layer</td>\n",
    "            <td>\n",
    "            Binary: <span style=\"font-family: Consolas;\">tf.keras.activations.sigmoid</span>\n",
    "            or   \n",
    "            Multi-class: <span style=\"font-family: Consolas;\">tf.keras.activations.softmax</span>\n",
    "            </td>\n",
    "        </tr>\n",
    "    </tbody>\n",
    "</table>\n",
    "\n",
    "There are a lot of ways (almost unlimited) you could make a CNN model. Usually you have a \"pooling layer\" follow a \"conv2D layer\" and you may have a number of pooling and conv2D layers stacked on top of one another (in a single model)."
   ]
  },
  {
   "cell_type": "markdown",
   "metadata": {},
   "source": [
    "## Getting some data\n",
    "\n",
    "We're going to use kaggle.com to get a dataset for the next notebook. We're going to use the Food 101 dataset. The dataset has been modified to only include two classes i.e pizza and steak. The reason this has been done (and we're not just going in with the 101 different classes) is so we can get a working/proven model before giving it more data (as the more data, the longer it takes to train etc).\n",
    "\n",
    "As soon as we are happy with our solution we can then scale up and add more classes. We're going to focus on starting simple and then adding complexity (something we should do often when solving ML problems)."
   ]
  },
  {
   "cell_type": "code",
   "execution_count": 5,
   "metadata": {},
   "outputs": [],
   "source": [
    "# We're going to \"wget\" the required zip file and then we're going to extract the data from the zip file.\n",
    "import zipfile\n",
    "\n",
    "!wget -q https://storage.googleapis.com/ztm_tf_course/food_vision/pizza_steak.zip # -q to suppress output\n",
    "\n",
    "# Unzip the downloaded file\n",
    "zip_ref = zipfile.ZipFile(\"pizza_steak.zip\")\n",
    "zip_ref.extractall()\n",
    "zip_ref.close()"
   ]
  },
  {
   "cell_type": "markdown",
   "metadata": {},
   "source": [
    "## Taking a look at the data\n",
    "\n",
    "It's really important to have a look at the data before moving on to trying to solve the problem. For computer vision this usually involves looking at individual bits of data to get a feel for how the data is made up.\n",
    "\n",
    "The first thing we may do is find out how many items of data we have in each of the various sets i.e. training (pizza & steak) and testing (pizza & steak). "
   ]
  },
  {
   "cell_type": "code",
   "execution_count": 10,
   "metadata": {},
   "outputs": [
    {
     "name": "stdout",
     "output_type": "stream",
     "text": [
      "There are 2 directories and 0 images in 'pizza_steak'\n",
      "There are 2 directories and 0 images in 'pizza_steak\\test'\n",
      "There are 0 directories and 250 images in 'pizza_steak\\test\\pizza'\n",
      "There are 0 directories and 250 images in 'pizza_steak\\test\\steak'\n",
      "There are 2 directories and 0 images in 'pizza_steak\\train'\n",
      "There are 0 directories and 750 images in 'pizza_steak\\train\\pizza'\n",
      "There are 0 directories and 750 images in 'pizza_steak\\train\\steak'\n"
     ]
    }
   ],
   "source": [
    "import os\n",
    "\n",
    "for dirpath, dirnames, filenames in os.walk(\"pizza_steak\"):\n",
    "    print(f\"There are {len(dirnames)} directories and {len(filenames)} images in '{dirpath}'\")"
   ]
  },
  {
   "cell_type": "markdown",
   "metadata": {},
   "source": [
    "We can see from the output above that we have 250 test images (each) of both steak and pizza and we have 750 training images (for each). So we have 1,000 images for both steak and pizza."
   ]
  },
  {
   "cell_type": "markdown",
   "metadata": {},
   "source": []
  }
 ],
 "metadata": {
  "kernelspec": {
   "display_name": "Python 3",
   "language": "python",
   "name": "python3"
  },
  "language_info": {
   "codemirror_mode": {
    "name": "ipython",
    "version": 3
   },
   "file_extension": ".py",
   "mimetype": "text/x-python",
   "name": "python",
   "nbconvert_exporter": "python",
   "pygments_lexer": "ipython3",
   "version": "3.12.3"
  }
 },
 "nbformat": 4,
 "nbformat_minor": 2
}
