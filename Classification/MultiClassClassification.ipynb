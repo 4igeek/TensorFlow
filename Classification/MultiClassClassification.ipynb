{
 "cells": [
  {
   "cell_type": "markdown",
   "metadata": {},
   "source": [
    "# Multi-Class Classification\n",
    "\n",
    "This lesson picks up where <a href=\"https://github.com/4igeek/TensorFlow/blob/main/Classification/NonLinearBinaryClassification.ipynb\">Non-Linear Binary Classification</a> takes off. In this notebook we're going to look at solving another classification problem only this time we're going to have more than two labels (classes). The steps for solving a binary class problem are the same as the steps for solving a multi-class problem.\n",
    "\n",
    "In this example we are going to classify images of clothing i.e. t-shirts, shoes etc.\n",
    "\n",
    "## Recap of the steps for building a model\n",
    "1) Prepare the data\n",
    "2) Build a model\n",
    "3) Fit the model to the data (and make predictions)\n",
    "4) Evaluate the model\n",
    "5) Improve through experimentation\n",
    "6) Save the model"
   ]
  },
  {
   "cell_type": "markdown",
   "metadata": {},
   "source": [
    "## 1) Prepare the data\n"
   ]
  },
  {
   "cell_type": "markdown",
   "metadata": {},
   "source": []
  }
 ],
 "metadata": {
  "language_info": {
   "name": "python"
  }
 },
 "nbformat": 4,
 "nbformat_minor": 2
}
