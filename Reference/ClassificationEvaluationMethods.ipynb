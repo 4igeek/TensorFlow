{
 "cells": [
  {
   "cell_type": "markdown",
   "metadata": {},
   "source": [
    "# Classification Evaluation Methods\n",
    "\n",
    "In this notebook we're going to look closer at the most common classification evaluation methods available to use from TensorFlow. \n",
    "\n",
    "When compiling our models we usually define a \"metrics\" variable and pass it an evaluation method i.e. \"accuracy\".\n",
    "\n",
    "**Key:** tp = true positive, tn = true negative, fp = false positive, fn = false negative."
   ]
  },
  {
   "cell_type": "markdown",
   "metadata": {},
   "source": [
    "![Classification Evaluation Methods](../Images/ClassificationEvaluationMethods.png)"
   ]
  },
  {
   "cell_type": "markdown",
   "metadata": {},
   "source": [
    "## How Classification Evaluation Works\n",
    "When we call one of the methods shown above, the various functions will look at the results that it got from the network and it will look at the actual (true) labels and it will compare them to see how accurate our model is."
   ]
  }
 ],
 "metadata": {
  "kernelspec": {
   "display_name": "Python 3",
   "language": "python",
   "name": "python3"
  },
  "language_info": {
   "codemirror_mode": {
    "name": "ipython",
    "version": 3
   },
   "file_extension": ".py",
   "mimetype": "text/x-python",
   "name": "python",
   "nbconvert_exporter": "python",
   "pygments_lexer": "ipython3",
   "version": "3.12.3"
  }
 },
 "nbformat": 4,
 "nbformat_minor": 2
}
