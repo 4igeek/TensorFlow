{
 "cells": [
  {
   "cell_type": "markdown",
   "metadata": {},
   "source": [
    "# Learning Rate Optimiser\n",
    "\n",
    "In this notebook we are going to look at how we can optimise our learning rate. The goal is to find the optimal learning rate (the learning rate where the loss decreases the most during training). This was written at the time where I was working on improving the model found in my [Non Linear Binary Classification](https://github.com/VilPeas/TensorFlow/blob/main/NonLinearBinaryClassification.ipynb) notebook.\n",
    "\n",
    "The way we approach this is by introducing a **callback function** that we will inject into our \"fit\" function in our model."
   ]
  },
  {
   "cell_type": "markdown",
   "metadata": {},
   "source": []
  }
 ],
 "metadata": {
  "language_info": {
   "name": "python"
  }
 },
 "nbformat": 4,
 "nbformat_minor": 2
}
